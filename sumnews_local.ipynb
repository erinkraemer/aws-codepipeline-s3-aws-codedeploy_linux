{
  "nbformat": 4,
  "nbformat_minor": 0,
  "metadata": {
    "colab": {
      "name": "sumnews-local.ipynb",
      "version": "0.3.2",
      "provenance": [],
      "collapsed_sections": [],
      "include_colab_link": true
    },
    "kernelspec": {
      "name": "python3",
      "display_name": "Python 3"
    },
    "accelerator": "GPU"
  },
  "cells": [
    {
      "cell_type": "markdown",
      "metadata": {
        "id": "view-in-github",
        "colab_type": "text"
      },
      "source": [
        "<a href=\"https://colab.research.google.com/github/erinkraemer/aws-codepipeline-s3-aws-codedeploy_linux/blob/master/sumnews_local.ipynb\" target=\"_parent\"><img src=\"https://colab.research.google.com/assets/colab-badge.svg\" alt=\"Open In Colab\"/></a>"
      ]
    },
    {
      "metadata": {
        "id": "X_NSra3CEsvO",
        "colab_type": "text"
      },
      "cell_type": "markdown",
      "source": [
        "<h1> Abstractive Text Summarization </h1>\n",
        "<h3> Using Recurrent Neural Network with Attention </h3> "
      ]
    },
    {
      "metadata": {
        "id": "nxKNY0mFYGBx",
        "colab_type": "text"
      },
      "cell_type": "markdown",
      "source": [
        "# Step 1: Setup"
      ]
    },
    {
      "metadata": {
        "id": "_5wGKPnYZbcJ",
        "colab_type": "text"
      },
      "cell_type": "markdown",
      "source": [
        "Connect to <code>local runtime</code> from google colab.\n"
      ]
    },
    {
      "metadata": {
        "id": "y0KxCtccZrgz",
        "colab_type": "text"
      },
      "cell_type": "markdown",
      "source": [
        "**Start server and authenticate**\n",
        "New notebook servers are started normally, though you will need to set a flag to explicitly trust WebSocket connections from the Colaboratory frontend. Run this in terminal from home directory.\n",
        "\n",
        "<code>jupyter notebook \\\n",
        "  --NotebookApp.allow_origin='https://colab.research.google.com' \\\n",
        "  --port=8888 \\\n",
        "  --NotebookApp.port_retries=0</code>"
      ]
    },
    {
      "metadata": {
        "id": "OtW2bi-2ROH0",
        "colab_type": "text"
      },
      "cell_type": "markdown",
      "source": [
        "# Step 2: Run Training\n"
      ]
    },
    {
      "metadata": {
        "id": "4HgJVTn5i4Xb",
        "colab_type": "text"
      },
      "cell_type": "markdown",
      "source": [
        "Download the encoder-decoder architechture from See et al. 2017 *Get To The Point: Summarization with Pointer-Generator Networks*. "
      ]
    },
    {
      "metadata": {
        "id": "PstCgzNdRc1p",
        "colab_type": "text"
      },
      "cell_type": "markdown",
      "source": [
        "To train your model, run:"
      ]
    },
    {
      "metadata": {
        "id": "sDA-Jct5-5J1",
        "colab_type": "code",
        "colab": {}
      },
      "cell_type": "code",
      "source": [
        "# You might be able to delete this cell because pyrogue is installed locally\n",
        "! git clone https://github.com/bheinzerling/pyrouge\n",
        "! (cd pyrouge ; python setup.py install)\n",
        "! (cd pyrouge ; pyrouge_set_rouge_path /absolute/path/to/ROUGE-1.5.5/directory)\n",
        "! (cd pyrouge ; python -m pyrouge.test)"
      ],
      "execution_count": 0,
      "outputs": []
    },
    {
      "metadata": {
        "id": "yFVASIzdwbdI",
        "colab_type": "code",
        "outputId": "38609573-4f2c-4c1a-fca9-defe4bf35500",
        "colab": {
          "base_uri": "https://localhost:8080/",
          "height": 54
        }
      },
      "cell_type": "code",
      "source": [
        "! python Desktop/pointer-generator/pointer-generator-master/run_summarization.py --mode=train --data_path=Desktop/pointer-generator/cnn_dailymail_tokenized/finished_files/chunked/train_* --vocab_path=Desktop/pointer-generator/cnn_dailymail_tokenized/finished_files/vocab --log_root=Desktop/pointer-generator/cnn_dailymail_tokenized/finished_files/log --exp_name=myexperiment"
      ],
      "execution_count": 0,
      "outputs": [
        {
          "output_type": "stream",
          "text": [
            "python3: can't open file 'Desktop/pointer-generator/pointer-generator-master/run_summarization.py': [Errno 2] No such file or directory\n"
          ],
          "name": "stdout"
        }
      ]
    },
    {
      "metadata": {
        "id": "e2oZ8Ry1Tefh",
        "colab_type": "text"
      },
      "cell_type": "markdown",
      "source": [
        "This will create a subdirectory of your specified log_root called myexperiment where all checkpoints and other data will be saved. Then the model will start training using the train_*.bin files as training data.\n",
        "\n",
        "**Warning:** Using default settings as in the above command, both initializing the model and running training iterations will probably be quite slow. To make things faster, try setting the following flags (especially max_enc_steps and max_dec_steps) to something smaller than the defaults specified in run_summarization.py: hidden_dim, emb_dim, batch_size, max_enc_steps, max_dec_steps, vocab_size.\n",
        "\n",
        "**Increasing sequence length during training:** Note that to obtain the results described in the paper, we increase the values of max_enc_steps and max_dec_steps in stages throughout training (mostly so we can perform quicker iterations during early stages of training). If you wish to do the same, start with small values of max_enc_steps and max_dec_steps, then interrupt and restart the job with larger values when you want to increase them."
      ]
    },
    {
      "metadata": {
        "id": "SIikHNuPUJAA",
        "colab_type": "text"
      },
      "cell_type": "markdown",
      "source": [
        "<h3> Run (concurrent) evaluation </h3>\n",
        "You may want to run a concurrent evaluation job, that runs your model on the validation set and logs the loss. To do this, run:"
      ]
    },
    {
      "metadata": {
        "id": "gpUttdxzUoSo",
        "colab_type": "code",
        "colab": {}
      },
      "cell_type": "code",
      "source": [
        "! python editedpointergenerator/run_summarization.py --mode=eval --data_path=/content/gdrive/My\\ Drive/finished_files/chunked/train_* --vocab_path=/content/gdrive/My\\ Drive/finished_files/vocab --log_root=/gdrive/My\\ Drive/finished_files/log --exp_name=myexperiment"
      ],
      "execution_count": 0,
      "outputs": []
    }
  ]
}